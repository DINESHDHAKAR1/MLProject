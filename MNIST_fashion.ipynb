{
  "cells": [
    {
      "cell_type": "markdown",
      "metadata": {
        "id": "view-in-github",
        "colab_type": "text"
      },
      "source": [
        "<a href=\"https://colab.research.google.com/github/DINESHDHAKAR1/MLProject/blob/main/MNIST_fashion.ipynb\" target=\"_parent\"><img src=\"https://colab.research.google.com/assets/colab-badge.svg\" alt=\"Open In Colab\"/></a>"
      ]
    },
    {
      "cell_type": "code",
      "source": [
        "import torch\n",
        "import torch.nn as nn\n",
        "import torchvision\n",
        "import torchvision.transforms as transforms\n",
        "from torchvision.transforms import ToTensor\n",
        "import matplotlib.pyplot as plt\n",
        "import numpy as np\n"
      ],
      "metadata": {
        "id": "oEBkxEGm_Y0P"
      },
      "execution_count": 10,
      "outputs": []
    },
    {
      "cell_type": "code",
      "source": [
        "train_data = torchvision.datasets.FashionMNIST(root= \"data\", train= True,download=True,transform= ToTensor())\n",
        "test_data = torchvision.datasets.FashionMNIST(root= \"data\", train= False,download=True,transform= ToTensor())"
      ],
      "metadata": {
        "id": "MTlAzynfEjtW"
      },
      "execution_count": 11,
      "outputs": []
    },
    {
      "cell_type": "code",
      "source": [
        "train_loader = torch.utils.data.DataLoader(dataset=train_data,batch_size=100,shuffle=True)\n",
        "test_loader = torch.utils.data.DataLoader(dataset=test_data,batch_size=100,shuffle=True)"
      ],
      "metadata": {
        "id": "Rkm6deBav0J5"
      },
      "execution_count": 12,
      "outputs": []
    },
    {
      "cell_type": "code",
      "source": [
        "x,y = next(iter(test_loader))"
      ],
      "metadata": {
        "id": "8cAAm2TBvMu9"
      },
      "execution_count": 13,
      "outputs": []
    },
    {
      "cell_type": "code",
      "source": [
        "print(x.shape)"
      ],
      "metadata": {
        "colab": {
          "base_uri": "https://localhost:8080/"
        },
        "id": "tvLy9dXrz48i",
        "outputId": "7b7fa198-612e-47b0-deaf-91c91a7622d4"
      },
      "execution_count": 14,
      "outputs": [
        {
          "output_type": "stream",
          "name": "stdout",
          "text": [
            "torch.Size([100, 1, 28, 28])\n"
          ]
        }
      ]
    },
    {
      "cell_type": "code",
      "source": [
        "class ImageClassifier(nn.Module):\n",
        "    def __init__(self):\n",
        "       super().__init__()\n",
        "       self.modal = nn.Sequential(\n",
        "        nn.Conv2d(1,32,(3,3)),\n",
        "        nn.ReLU(),\n",
        "        nn.Conv2d(32,64,(3,3)),\n",
        "        nn.ReLU(),\n",
        "        nn.Conv2d(64,64,(3,3)),\n",
        "        nn.ReLU(),\n",
        "        nn.Flatten(),\n",
        "        nn.Linear(64*(28-6)*(28-6),10)\n",
        "       )\n",
        "\n",
        "    def forward(self,x) :\n",
        "        return self.module(x)\n"
      ],
      "metadata": {
        "id": "K1BVcDtOEbyF"
      },
      "execution_count": 15,
      "outputs": []
    },
    {
      "cell_type": "code",
      "source": [
        "clf = nn.Sequential(\n",
        "        nn.Conv2d(1,32,(3,3)),\n",
        "        nn.ReLU(),\n",
        "        nn.Conv2d(32,64,(3,3)),\n",
        "        nn.ReLU(),\n",
        "        nn.Conv2d(64,64,(3,3)),\n",
        "        nn.ReLU(),\n",
        "        nn.Flatten(),\n",
        "        nn.Linear(64*(28-6)*(28-6),10)\n",
        ").to('cuda')"
      ],
      "metadata": {
        "id": "89l_vktN41OP"
      },
      "execution_count": 16,
      "outputs": []
    },
    {
      "cell_type": "code",
      "source": [
        "\n",
        "opt = torch.optim.Adam(clf.parameters(),lr=1e-3)\n",
        "loss_fn = nn.CrossEntropyLoss()\n",
        "clf"
      ],
      "metadata": {
        "id": "EdWArcOIEVPb",
        "colab": {
          "base_uri": "https://localhost:8080/"
        },
        "outputId": "ee972df8-6c98-4583-becc-ecb8f4a6c007"
      },
      "execution_count": 17,
      "outputs": [
        {
          "output_type": "execute_result",
          "data": {
            "text/plain": [
              "Sequential(\n",
              "  (0): Conv2d(1, 32, kernel_size=(3, 3), stride=(1, 1))\n",
              "  (1): ReLU()\n",
              "  (2): Conv2d(32, 64, kernel_size=(3, 3), stride=(1, 1))\n",
              "  (3): ReLU()\n",
              "  (4): Conv2d(64, 64, kernel_size=(3, 3), stride=(1, 1))\n",
              "  (5): ReLU()\n",
              "  (6): Flatten(start_dim=1, end_dim=-1)\n",
              "  (7): Linear(in_features=30976, out_features=10, bias=True)\n",
              ")"
            ]
          },
          "metadata": {},
          "execution_count": 17
        }
      ]
    },
    {
      "cell_type": "code",
      "source": [
        "if __name__ ==\"__main__\":\n",
        "        for epoch in range (10):\n",
        "              train_loss =0\n",
        "              for i ,(image,labels) in enumerate(train_loader) :\n",
        "                image,labels =image.to('cuda'),labels.to('cuda')\n",
        "                output = clf(image)\n",
        "                loss = loss_fn(output,labels)\n",
        "                train_loss +=loss\n",
        "                opt.zero_grad()\n",
        "                loss.backward()\n",
        "                opt.step()\n",
        "                if (i+1)%100 ==0 :\n",
        "                  print(f\"Epoch[{epoch+1/10}],Loss:{train_loss}\")"
      ],
      "metadata": {
        "id": "CcmdUfFUEozi",
        "outputId": "6f5f89fb-1db6-4204-a800-d1c3c612c4c1",
        "colab": {
          "base_uri": "https://localhost:8080/"
        }
      },
      "execution_count": 19,
      "outputs": [
        {
          "output_type": "stream",
          "name": "stdout",
          "text": [
            "Epoch[0.1],Loss:71.71219635009766\n",
            "Epoch[0.1],Loss:117.27133178710938\n",
            "Epoch[0.1],Loss:157.94105529785156\n",
            "Epoch[0.1],Loss:194.537841796875\n",
            "Epoch[0.1],Loss:227.88978576660156\n",
            "Epoch[0.1],Loss:259.9986877441406\n",
            "Epoch[1.1],Loss:29.178646087646484\n",
            "Epoch[1.1],Loss:58.125850677490234\n",
            "Epoch[1.1],Loss:87.32540893554688\n",
            "Epoch[1.1],Loss:114.92805480957031\n",
            "Epoch[1.1],Loss:140.67462158203125\n",
            "Epoch[1.1],Loss:167.11941528320312\n",
            "Epoch[2.1],Loss:23.50062370300293\n",
            "Epoch[2.1],Loss:47.34731674194336\n",
            "Epoch[2.1],Loss:70.97189331054688\n",
            "Epoch[2.1],Loss:93.54857635498047\n",
            "Epoch[2.1],Loss:116.00936889648438\n",
            "Epoch[2.1],Loss:138.15701293945312\n",
            "Epoch[3.1],Loss:18.754112243652344\n",
            "Epoch[3.1],Loss:38.64211654663086\n",
            "Epoch[3.1],Loss:58.348899841308594\n",
            "Epoch[3.1],Loss:78.26078796386719\n",
            "Epoch[3.1],Loss:97.19972229003906\n",
            "Epoch[3.1],Loss:117.3426742553711\n",
            "Epoch[4.1],Loss:16.404216766357422\n",
            "Epoch[4.1],Loss:32.92814636230469\n",
            "Epoch[4.1],Loss:48.45631790161133\n",
            "Epoch[4.1],Loss:65.7238998413086\n",
            "Epoch[4.1],Loss:82.11959838867188\n",
            "Epoch[4.1],Loss:98.8591079711914\n",
            "Epoch[5.1],Loss:12.084735870361328\n",
            "Epoch[5.1],Loss:26.211082458496094\n",
            "Epoch[5.1],Loss:38.638492584228516\n",
            "Epoch[5.1],Loss:53.01967239379883\n",
            "Epoch[5.1],Loss:68.09864807128906\n",
            "Epoch[5.1],Loss:83.12446594238281\n",
            "Epoch[6.1],Loss:10.5005464553833\n",
            "Epoch[6.1],Loss:21.13913917541504\n",
            "Epoch[6.1],Loss:32.402748107910156\n",
            "Epoch[6.1],Loss:43.86725997924805\n",
            "Epoch[6.1],Loss:56.35327911376953\n",
            "Epoch[6.1],Loss:68.40672302246094\n",
            "Epoch[7.1],Loss:8.9103422164917\n",
            "Epoch[7.1],Loss:17.753114700317383\n",
            "Epoch[7.1],Loss:26.903545379638672\n",
            "Epoch[7.1],Loss:36.080318450927734\n",
            "Epoch[7.1],Loss:45.64821243286133\n",
            "Epoch[7.1],Loss:55.271949768066406\n",
            "Epoch[8.1],Loss:7.1961212158203125\n",
            "Epoch[8.1],Loss:14.818646430969238\n",
            "Epoch[8.1],Loss:21.49837875366211\n",
            "Epoch[8.1],Loss:29.904741287231445\n",
            "Epoch[8.1],Loss:37.72157669067383\n",
            "Epoch[8.1],Loss:46.06017303466797\n",
            "Epoch[9.1],Loss:5.406503200531006\n",
            "Epoch[9.1],Loss:10.471572875976562\n",
            "Epoch[9.1],Loss:16.260120391845703\n",
            "Epoch[9.1],Loss:22.701555252075195\n",
            "Epoch[9.1],Loss:29.966785430908203\n",
            "Epoch[9.1],Loss:36.45308303833008\n"
          ]
        }
      ]
    },
    {
      "cell_type": "code",
      "source": [
        "device = torch.device('cuda')"
      ],
      "metadata": {
        "id": "haONbiMIkHVg"
      },
      "execution_count": 20,
      "outputs": []
    },
    {
      "cell_type": "code",
      "source": [
        "with torch.no_grad():\n",
        "  n_correct =[]\n",
        "  test_loss = 0\n",
        "  n_sam = len(test_loader.dataset)\n",
        "  for i ,(image,labels) in enumerate(test_loader) :\n",
        "                image,labels =image.to('cuda'),labels.to('cuda')\n",
        "                output = clf(image)\n",
        "                losses = loss_fn(output,labels)\n",
        "                train_loss +=losses\n",
        "                n_correct = torch.softmax(output.squeeze(), dim=0)\n",
        "  print(n_correct.shape)\n",
        "  print(n_correct[1])\n",
        "  print(labels[1])"
      ],
      "metadata": {
        "colab": {
          "base_uri": "https://localhost:8080/"
        },
        "id": "_9koy92XjucM",
        "outputId": "a852772a-bd0d-4239-ff9f-a10254cf026f"
      },
      "execution_count": 23,
      "outputs": [
        {
          "output_type": "stream",
          "name": "stdout",
          "text": [
            "torch.Size([100, 10])\n",
            "tensor([1.5193e-03, 5.2031e-18, 1.0358e-09, 5.3708e-10, 5.2189e-06, 2.3055e-29,\n",
            "        4.2644e-06, 2.0126e-21, 4.3744e-20, 1.9423e-27], device='cuda:0')\n",
            "tensor(6, device='cuda:0')\n"
          ]
        }
      ]
    },
    {
      "cell_type": "code",
      "source": [
        "pred_classes = n_correct.argmax(dim=1)\n",
        "pred_classes"
      ],
      "metadata": {
        "colab": {
          "base_uri": "https://localhost:8080/"
        },
        "id": "lScMbXZ1lo8w",
        "outputId": "ea8d8ccb-1a3f-451a-e35f-6820ded1067c"
      },
      "execution_count": 24,
      "outputs": [
        {
          "output_type": "execute_result",
          "data": {
            "text/plain": [
              "tensor([3, 0, 7, 6, 0, 0, 8, 8, 0, 4, 9, 0, 1, 0, 4, 6, 2, 0, 8, 8, 1, 6, 6, 7,\n",
              "        9, 7, 3, 6, 0, 6, 4, 1, 9, 3, 4, 4, 7, 3, 0, 7, 5, 9, 1, 6, 6, 1, 4, 7,\n",
              "        5, 0, 6, 7, 1, 9, 0, 7, 6, 6, 3, 7, 6, 6, 7, 9, 5, 7, 0, 4, 4, 0, 8, 8,\n",
              "        6, 0, 1, 2, 3, 1, 4, 0, 3, 7, 7, 4, 4, 5, 9, 7, 5, 0, 7, 4, 5, 6, 2, 0,\n",
              "        7, 4, 0, 6], device='cuda:0')"
            ]
          },
          "metadata": {},
          "execution_count": 24
        }
      ]
    },
    {
      "cell_type": "code",
      "source": [
        "print(labels)"
      ],
      "metadata": {
        "colab": {
          "base_uri": "https://localhost:8080/"
        },
        "id": "5_Soc6i6lvwH",
        "outputId": "599efbaf-d0b2-4a0f-c53e-54b560b38df2"
      },
      "execution_count": 25,
      "outputs": [
        {
          "output_type": "stream",
          "name": "stdout",
          "text": [
            "tensor([3, 6, 7, 2, 0, 0, 8, 8, 0, 8, 9, 0, 1, 0, 5, 5, 2, 0, 8, 8, 1, 6, 2, 7,\n",
            "        9, 7, 8, 6, 0, 2, 4, 1, 9, 3, 2, 4, 7, 0, 0, 7, 5, 9, 1, 6, 6, 1, 4, 7,\n",
            "        5, 0, 6, 7, 1, 9, 0, 7, 0, 5, 3, 7, 6, 6, 7, 9, 5, 7, 6, 2, 2, 0, 8, 8,\n",
            "        5, 0, 1, 2, 3, 1, 4, 5, 3, 7, 7, 4, 3, 5, 9, 5, 5, 0, 7, 4, 5, 8, 2, 0,\n",
            "        9, 2, 5, 4], device='cuda:0')\n"
          ]
        }
      ]
    },
    {
      "cell_type": "code",
      "source": [
        "y=labels.cpu()\n",
        "y=y.numpy()"
      ],
      "metadata": {
        "id": "8jZNXSdkpGIW"
      },
      "execution_count": 40,
      "outputs": []
    },
    {
      "cell_type": "code",
      "source": [
        "tensor=pred_classes.cpu()\n",
        "arr =tensor.numpy()"
      ],
      "metadata": {
        "id": "ALsuac5wqZld"
      },
      "execution_count": 41,
      "outputs": []
    },
    {
      "cell_type": "code",
      "source": [
        "from sklearn.metrics import confusion_matrix, ConfusionMatrixDisplay\n",
        "cm = confusion_matrix(arr,y)\n",
        "ConfusionMatrixDisplay(cm).plot()"
      ],
      "metadata": {
        "colab": {
          "base_uri": "https://localhost:8080/",
          "height": 472
        },
        "id": "F7V_OPZ3lz0f",
        "outputId": "961dd1fb-9773-45cb-d001-e41d20d76ffe"
      },
      "execution_count": 42,
      "outputs": [
        {
          "output_type": "execute_result",
          "data": {
            "text/plain": [
              "<sklearn.metrics._plot.confusion_matrix.ConfusionMatrixDisplay at 0x7a569cc80790>"
            ]
          },
          "metadata": {},
          "execution_count": 42
        },
        {
          "output_type": "display_data",
          "data": {
            "text/plain": [
              "<Figure size 640x480 with 2 Axes>"
            ],
            "image/png": "[encoded data removed]"
          },
          "metadata": {}
        }
      ]
    }
  ],
  "metadata": {
    "colab": {
      "provenance": [],
      "gpuType": "T4",
      "include_colab_link": true
    },
    "kernelspec": {
      "display_name": "Python 3",
      "name": "python3"
    },
    "accelerator": "GPU"
  },
  "nbformat": 4,
  "nbformat_minor": 0
}