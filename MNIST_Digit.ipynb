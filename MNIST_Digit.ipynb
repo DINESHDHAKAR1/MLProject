{
  "cells": [
    {
      "cell_type": "markdown",
      "metadata": {
        "id": "view-in-github",
        "colab_type": "text"
      },
      "source": [
        "<a href=\"https://colab.research.google.com/github/DINESHDHAKAR1/MLProject/blob/main/MNIST_Digit.ipynb\" target=\"_parent\"><img src=\"https://colab.research.google.com/assets/colab-badge.svg\" alt=\"Open In Colab\"/></a>"
      ]
    },
    {
      "cell_type": "code",
      "source": [
        "import torch\n",
        "import torch.nn as nn\n",
        "import torchvision\n",
        "import torchvision.transforms as transforms\n",
        "import matplotlib.pyplot as plt\n"
      ],
      "metadata": {
        "id": "kdaN_v97qnCe"
      },
      "execution_count": null,
      "outputs": []
    },
    {
      "cell_type": "code",
      "source": [
        "device = torch.device('cpu')\n",
        "input_size =784\n",
        "hidden_size = 500\n",
        "num_classes = 10\n",
        "num_epochs =2\n",
        "batch_size = 100\n",
        "learning_rate = 0.001"
      ],
      "metadata": {
        "id": "-tBi8vJnr_pC"
      },
      "execution_count": null,
      "outputs": []
    },
    {
      "cell_type": "code",
      "source": [
        "train_dataset = torchvision.datasets.MNIST( root= 'data',train= True,transform=transforms.ToTensor(),download=True)\n",
        "test_dataset = torchvision.datasets.MNIST( root= 'data',train= False,transform=transforms.ToTensor(),download=True)\n",
        "\n",
        "train_loader = torch.utils.data.DataLoader(dataset=train_dataset,batch_size=batch_size,shuffle=True)\n",
        "test_loader = torch.utils.data.DataLoader(dataset=test_dataset,batch_size=batch_size,shuffle=True)"
      ],
      "metadata": {
        "id": "G5Wwr5rHs9jD",
        "colab": {
          "base_uri": "https://localhost:8080/"
        },
        "outputId": "9e59c17b-ebce-42d5-b1c7-e9b451236178"
      },
      "execution_count": null,
      "outputs": [
        {
          "output_type": "stream",
          "name": "stdout",
          "text": [
            "Downloading http://yann.lecun.com/exdb/mnist/train-images-idx3-ubyte.gz\n",
            "Downloading http://yann.lecun.com/exdb/mnist/train-images-idx3-ubyte.gz to data/MNIST/raw/train-images-idx3-ubyte.gz\n"
          ]
        },
        {
          "output_type": "stream",
          "name": "stderr",
          "text": [
            "100%|██████████| 9912422/9912422 [00:00<00:00, 115287934.13it/s]\n"
          ]
        },
        {
          "output_type": "stream",
          "name": "stdout",
          "text": [
            "Extracting data/MNIST/raw/train-images-idx3-ubyte.gz to data/MNIST/raw\n",
            "\n",
            "Downloading http://yann.lecun.com/exdb/mnist/train-labels-idx1-ubyte.gz\n",
            "Downloading http://yann.lecun.com/exdb/mnist/train-labels-idx1-ubyte.gz to data/MNIST/raw/train-labels-idx1-ubyte.gz\n"
          ]
        },
        {
          "output_type": "stream",
          "name": "stderr",
          "text": [
            "100%|██████████| 28881/28881 [00:00<00:00, 33780171.17it/s]"
          ]
        },
        {
          "output_type": "stream",
          "name": "stdout",
          "text": [
            "Extracting data/MNIST/raw/train-labels-idx1-ubyte.gz to data/MNIST/raw\n",
            "\n",
            "Downloading http://yann.lecun.com/exdb/mnist/t10k-images-idx3-ubyte.gz\n",
            "Downloading http://yann.lecun.com/exdb/mnist/t10k-images-idx3-ubyte.gz to data/MNIST/raw/t10k-images-idx3-ubyte.gz\n"
          ]
        },
        {
          "output_type": "stream",
          "name": "stderr",
          "text": [
            "\n",
            "100%|██████████| 1648877/1648877 [00:00<00:00, 31557509.84it/s]\n"
          ]
        },
        {
          "output_type": "stream",
          "name": "stdout",
          "text": [
            "Extracting data/MNIST/raw/t10k-images-idx3-ubyte.gz to data/MNIST/raw\n",
            "\n",
            "Downloading http://yann.lecun.com/exdb/mnist/t10k-labels-idx1-ubyte.gz\n",
            "Downloading http://yann.lecun.com/exdb/mnist/t10k-labels-idx1-ubyte.gz to data/MNIST/raw/t10k-labels-idx1-ubyte.gz\n"
          ]
        },
        {
          "output_type": "stream",
          "name": "stderr",
          "text": [
            "100%|██████████| 4542/4542 [00:00<00:00, 3792659.52it/s]\n"
          ]
        },
        {
          "output_type": "stream",
          "name": "stdout",
          "text": [
            "Extracting data/MNIST/raw/t10k-labels-idx1-ubyte.gz to data/MNIST/raw\n",
            "\n"
          ]
        }
      ]
    },
    {
      "cell_type": "code",
      "source": [
        "example_data,example_target = next(iter(test_loader))"
      ],
      "metadata": {
        "id": "aAw1lvXWvQjM"
      },
      "execution_count": null,
      "outputs": []
    },
    {
      "cell_type": "code",
      "source": [
        "example_data[0]"
      ],
      "metadata": {
        "id": "XTJVorjj1dFO"
      },
      "execution_count": null,
      "outputs": []
    },
    {
      "cell_type": "code",
      "source": [
        "for i in range (6):\n",
        "  plt.subplot(3,2,i+1)\n",
        "  plt.imshow(example_data[i][0],cmap='gray')\n",
        "plt.show ()"
      ],
      "metadata": {
        "id": "Qg3qwaQ9zRAu",
        "colab": {
          "base_uri": "https://localhost:8080/",
          "height": 433
        },
        "outputId": "fba5c2ec-a113-4267-f5a8-d77439abd349"
      },
      "execution_count": null,
      "outputs": [
        {
          "output_type": "display_data",
          "data": {
            "text/plain": [
              "<Figure size 640x480 with 6 Axes>"
            ],
            "image/png": "[encoded data removed]"
          },
          "metadata": {}
        }
      ]
    },
    {
      "cell_type": "code",
      "source": [
        "class Nural_Network(nn.Module):\n",
        "  def __init__(self,input_size,hidden_size,num_classes):\n",
        "        super(Nural_Network,self).__init__()\n",
        "        self.l1 = nn.Linear(input_size,hidden_size)\n",
        "        self.relu = nn.ReLU\n",
        "        self.l2 = nn.Linear(hidden_size,num_classes)\n",
        "\n",
        "  def forward(self,x):\n",
        "      out = self.l1(x)\n",
        "      out = self.relu(out)\n",
        "      out = self.l2(out)\n",
        "      return out\n"
      ],
      "metadata": {
        "id": "ELqedLtWZeWg"
      },
      "execution_count": null,
      "outputs": []
    },
    {
      "cell_type": "code",
      "source": [
        "modal = nn.Sequential(\n",
        "    nn.Linear(input_size, hidden_size),\n",
        "    nn.ReLU(),\n",
        "    nn.Linear(hidden_size, 100),\n",
        "    nn.ReLU(),\n",
        "    nn.Linear(100,num_classes),\n",
        "\n",
        ").to(device)"
      ],
      "metadata": {
        "id": "CWIyajfRn_LN"
      },
      "execution_count": null,
      "outputs": []
    },
    {
      "cell_type": "code",
      "source": [
        "#model = Nural_Network(input_size,hidden_size,num_classes).to(device)"
      ],
      "metadata": {
        "id": "ygH760lEb124"
      },
      "execution_count": null,
      "outputs": []
    },
    {
      "cell_type": "code",
      "source": [
        "criteria = nn.CrossEntropyLoss()\n",
        "optimizer = torch.optim.Adam(modal.parameters(),lr=learning_rate)"
      ],
      "metadata": {
        "id": "9y8cO9AkcmnC"
      },
      "execution_count": null,
      "outputs": []
    },
    {
      "cell_type": "code",
      "source": [
        "n_steps = len(train_loader)\n",
        "for epoch in range (num_epochs) :\n",
        "  train_loss =0\n",
        "  for i ,(image,labels) in enumerate(train_loader) :\n",
        "    image = image.reshape(-1,28*28).to(device)\n",
        "    labels = labels.to(device)\n",
        "    outputs = modal(image)\n",
        "    loss = criteria(outputs,labels)\n",
        "    train_loss +=loss\n",
        "    optimizer.zero_grad()\n",
        "    loss.backward()\n",
        "    optimizer.step()\n",
        "\n",
        "\n",
        "    if (i+1)%100 ==0 :\n",
        "      print(f\"Epoch[{epoch+1/num_epochs}],step[{i+1/n_steps}],Loss:{train_loss}\")"
      ],
      "metadata": {
        "id": "PfrIloQEdjhE",
        "colab": {
          "base_uri": "https://localhost:8080/"
        },
        "outputId": "093da8d2-5829-494f-d4b3-68830d029aa3"
      },
      "execution_count": null,
      "outputs": [
        {
          "output_type": "stream",
          "name": "stdout",
          "text": [
            "Epoch[0.5],step[99.00166666666667],Loss:69.48849487304688\n",
            "Epoch[0.5],step[199.00166666666667],Loss:99.91278839111328\n",
            "Epoch[0.5],step[299.00166666666667],Loss:123.55944061279297\n",
            "Epoch[0.5],step[399.00166666666667],Loss:143.9983367919922\n",
            "Epoch[0.5],step[499.00166666666667],Loss:159.1857452392578\n",
            "Epoch[0.5],step[599.0016666666667],Loss:174.0927734375\n",
            "Epoch[1.5],step[99.00166666666667],Loss:12.485660552978516\n",
            "Epoch[1.5],step[199.00166666666667],Loss:22.77907371520996\n",
            "Epoch[1.5],step[299.00166666666667],Loss:33.461360931396484\n",
            "Epoch[1.5],step[399.00166666666667],Loss:43.567073822021484\n",
            "Epoch[1.5],step[499.00166666666667],Loss:53.464378356933594\n",
            "Epoch[1.5],step[599.0016666666667],Loss:63.182437896728516\n"
          ]
        }
      ]
    },
    {
      "cell_type": "code",
      "source": [
        "with torch.no_grad():\n",
        "  n_correct =[]\n",
        "  test_loss = 0\n",
        "  n_sam = len(test_loader.dataset)\n",
        "  for i ,(image,labels) in enumerate(train_loader):\n",
        "    image = image.reshape(-1,28*28).to(device)\n",
        "    labels =labels.to(device)\n",
        "    output = modal(image)\n",
        "    loss = criteria(output,labels)\n",
        "    test_loss += loss\n",
        "    n_correct = torch.softmax(output.squeeze(), dim=0)\n",
        "    #n_correct.append(n_correct)\n",
        "  print(n_sam)\n",
        "  print(n_correct.shape)\n",
        "  print(n_correct[1])\n",
        "  print(labels[1])"
      ],
      "metadata": {
        "id": "yNf9l3YEnIui",
        "outputId": "050aa12b-c9f4-47ef-c68a-f76e59ce3311",
        "colab": {
          "base_uri": "https://localhost:8080/"
        }
      },
      "execution_count": null,
      "outputs": [
        {
          "output_type": "stream",
          "name": "stdout",
          "text": [
            "10000\n",
            "torch.Size([100, 10])\n",
            "tensor([3.2011e-06, 1.6186e-08, 8.7469e-07, 1.7481e-07, 3.8770e-08, 1.2056e-06,\n",
            "        3.2571e-08, 1.1062e-09, 3.1871e-02, 1.1292e-05])\n",
            "tensor(8)\n"
          ]
        }
      ]
    },
    {
      "cell_type": "code",
      "source": [
        "  print(n_correct[50])\n",
        "  print(labels[50])"
      ],
      "metadata": {
        "colab": {
          "base_uri": "https://localhost:8080/"
        },
        "id": "DJkf4cA0cWxR",
        "outputId": "d950bc44-4625-4cbf-c0b4-877515012f7f"
      },
      "execution_count": null,
      "outputs": [
        {
          "output_type": "stream",
          "name": "stdout",
          "text": [
            "tensor([2.6479e-09, 2.8214e-03, 1.3379e-01, 9.2071e-06, 9.2399e-10, 1.1861e-06,\n",
            "        4.0207e-09, 2.6675e-06, 7.2618e-07, 1.0970e-08])\n",
            "tensor(2)\n"
          ]
        }
      ]
    },
    {
      "cell_type": "code",
      "source": [
        "print(test_loss)"
      ],
      "metadata": {
        "colab": {
          "base_uri": "https://localhost:8080/"
        },
        "id": "a2lyFbae20B1",
        "outputId": "ae503990-7515-48c3-f9e3-8bcc4b5bfb0c"
      },
      "execution_count": null,
      "outputs": [
        {
          "output_type": "stream",
          "name": "stdout",
          "text": [
            "tensor(39.7207)\n"
          ]
        }
      ]
    },
    {
      "cell_type": "code",
      "source": [
        "pred_classes = n_correct.argmax(dim=1)\n",
        "pred_classes"
      ],
      "metadata": {
        "colab": {
          "base_uri": "https://localhost:8080/"
        },
        "id": "zmZJQCTy5vg6",
        "outputId": "a932a198-5db2-4b76-d2be-662d4b8594c7"
      },
      "execution_count": null,
      "outputs": [
        {
          "output_type": "execute_result",
          "data": {
            "text/plain": [
              "tensor([7, 8, 2, 8, 7, 2, 8, 8, 1, 1, 9, 0, 6, 9, 0, 1, 6, 8, 3, 6, 3, 3, 6, 5,\n",
              "        2, 4, 0, 4, 9, 9, 3, 1, 3, 1, 2, 3, 3, 6, 6, 9, 4, 8, 4, 9, 5, 8, 2, 0,\n",
              "        7, 7, 2, 4, 6, 9, 5, 8, 2, 7, 3, 5, 5, 5, 4, 6, 3, 1, 0, 4, 2, 2, 7, 1,\n",
              "        3, 8, 2, 7, 7, 1, 8, 3, 7, 7, 4, 8, 8, 0, 5, 6, 8, 1, 5, 5, 1, 1, 2, 0,\n",
              "        1, 7, 6, 1])"
            ]
          },
          "metadata": {},
          "execution_count": 23
        }
      ]
    },
    {
      "cell_type": "code",
      "source": [
        "print(labels)"
      ],
      "metadata": {
        "colab": {
          "base_uri": "https://localhost:8080/"
        },
        "id": "vhJ40RPB_Z_A",
        "outputId": "d25523db-572f-4a22-c9cb-ee13199d3ff9"
      },
      "execution_count": null,
      "outputs": [
        {
          "output_type": "stream",
          "name": "stdout",
          "text": [
            "tensor([7, 8, 2, 8, 7, 7, 8, 8, 1, 1, 9, 0, 6, 9, 0, 1, 6, 7, 3, 6, 3, 3, 6, 5,\n",
            "        2, 4, 0, 4, 9, 9, 3, 1, 3, 1, 2, 3, 3, 6, 6, 9, 4, 8, 4, 9, 5, 8, 2, 0,\n",
            "        7, 7, 2, 4, 6, 9, 5, 8, 2, 7, 3, 5, 5, 5, 4, 6, 3, 1, 0, 4, 2, 2, 7, 1,\n",
            "        3, 8, 2, 7, 7, 1, 8, 3, 7, 7, 4, 8, 8, 0, 5, 6, 8, 1, 5, 5, 1, 1, 2, 0,\n",
            "        1, 7, 6, 1])\n"
          ]
        }
      ]
    },
    {
      "cell_type": "code",
      "source": [
        "from sklearn.metrics import confusion_matrix, ConfusionMatrixDisplay\n",
        "\n",
        "\n",
        "cm = confusion_matrix(labels, pred_classes)\n",
        "ConfusionMatrixDisplay(cm).plot()"
      ],
      "metadata": {
        "colab": {
          "base_uri": "https://localhost:8080/",
          "height": 466
        },
        "id": "-5zIpK44-yXE",
        "outputId": "1a53f3fe-1f24-4edf-8e2b-fabd99328d29"
      },
      "execution_count": null,
      "outputs": [
        {
          "output_type": "execute_result",
          "data": {
            "text/plain": [
              "<sklearn.metrics._plot.confusion_matrix.ConfusionMatrixDisplay at 0x7eb59ae993c0>"
            ]
          },
          "metadata": {},
          "execution_count": 24
        },
        {
          "output_type": "display_data",
          "data": {
            "text/plain": [
              "<Figure size 640x480 with 2 Axes>"
            ],
            "image/png": "[encoded data removed]"
          },
          "metadata": {}
        }
      ]
    }
  ],
  "metadata": {
    "colab": {
      "provenance": [],
      "include_colab_link": true
    },
    "kernelspec": {
      "display_name": "Python 3",
      "name": "python3"
    }
  },
  "nbformat": 4,
  "nbformat_minor": 0
}